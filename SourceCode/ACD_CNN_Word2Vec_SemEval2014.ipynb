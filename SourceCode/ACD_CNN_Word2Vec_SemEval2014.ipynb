{
  "nbformat": 4,
  "nbformat_minor": 0,
  "metadata": {
    "colab": {
      "name": "ACD_CNN_Word2Vec_SemEval2014.ipynb",
      "provenance": [],
      "collapsed_sections": []
    },
    "kernelspec": {
      "name": "python3",
      "display_name": "Python 3"
    }
  },
  "cells": [
    {
      "cell_type": "code",
      "metadata": {
        "id": "-5OHzaMn8eJA",
        "colab_type": "code",
        "colab": {}
      },
      "source": [
        "pip install keras==2.2.4"
      ],
      "execution_count": null,
      "outputs": []
    },
    {
      "cell_type": "code",
      "metadata": {
        "id": "UOZrk8s2-oYk",
        "colab_type": "code",
        "colab": {}
      },
      "source": [
        "!pip install tensorflow-gpu==1.15.0"
      ],
      "execution_count": null,
      "outputs": []
    },
    {
      "cell_type": "code",
      "metadata": {
        "id": "VdcyWkiT_CPz",
        "colab_type": "code",
        "colab": {
          "base_uri": "https://localhost:8080/",
          "height": 124
        },
        "outputId": "34e08a94-26ed-44a8-e2e8-6ae5679e53b2"
      },
      "source": [
        "from google.colab import drive\n",
        "import os\n",
        "drive.mount('/content/drive/')\n",
        "os.chdir('/content/drive/My Drive/Aspect Category Detection/')"
      ],
      "execution_count": null,
      "outputs": [
        {
          "output_type": "stream",
          "text": [
            "Go to this URL in a browser: https://accounts.google.com/o/oauth2/auth?client_id=947318989803-6bn6qk8qdgf4n4g3pfee6491hc0brc4i.apps.googleusercontent.com&redirect_uri=urn%3aietf%3awg%3aoauth%3a2.0%3aoob&scope=email%20https%3a%2f%2fwww.googleapis.com%2fauth%2fdocs.test%20https%3a%2f%2fwww.googleapis.com%2fauth%2fdrive%20https%3a%2f%2fwww.googleapis.com%2fauth%2fdrive.photos.readonly%20https%3a%2f%2fwww.googleapis.com%2fauth%2fpeopleapi.readonly&response_type=code\n",
            "\n",
            "Enter your authorization code:\n",
            "··········\n",
            "Mounted at /content/drive/\n"
          ],
          "name": "stdout"
        }
      ]
    },
    {
      "cell_type": "code",
      "metadata": {
        "id": "AnZwfWWI_RiA",
        "colab_type": "code",
        "colab": {
          "base_uri": "https://localhost:8080/",
          "height": 35
        },
        "outputId": "3330d683-92d4-4d3c-887b-a6bd580fd7c2"
      },
      "source": [
        "import pandas as pd\n",
        "from sklearn.feature_extraction.text import CountVectorizer\n",
        "from sklearn.model_selection import train_test_split\n",
        "from sklearn.linear_model import LogisticRegression\n",
        "import matplotlib.pyplot as plt\n",
        "plt.style.use('ggplot')\n",
        "from sklearn.preprocessing import LabelEncoder\n",
        "from keras.models import Sequential\n",
        "from keras.layers.embeddings import Embedding\n",
        "from keras import layers\n",
        "from sklearn.preprocessing import OneHotEncoder\n",
        "from keras.preprocessing.text import Tokenizer\n",
        "from keras.preprocessing.sequence import pad_sequences\n",
        "import numpy as np\n",
        "import xml.etree.ElementTree as ET, getopt, logging, sys, random, re, copy, os\n",
        "from lxml import etree\n",
        "from keras.wrappers.scikit_learn import KerasClassifier\n",
        "from sklearn.model_selection import RandomizedSearchCV\n",
        "\n",
        "from keras import backend as K"
      ],
      "execution_count": null,
      "outputs": [
        {
          "output_type": "stream",
          "text": [
            "Using TensorFlow backend.\n"
          ],
          "name": "stderr"
        }
      ]
    },
    {
      "cell_type": "code",
      "metadata": {
        "id": "q69AzX32_Tr2",
        "colab_type": "code",
        "colab": {}
      },
      "source": [
        "def getSentences(file):\n",
        "  tree = ET.parse(file, etree.XMLParser(recover=True, encoding=\"utf-8\"))\n",
        "  root = tree.getroot()\n",
        "  s = []\n",
        "  p = []\n",
        "  #for review in root.findall('Review'):\n",
        "  for sentence in root.findall('sentence'):\n",
        "    #for sentence in sentences.findall('sentence'):\n",
        "    sent = []\n",
        "    sent_characteristics = []\n",
        "    text = sentence.find('text').text\n",
        "    sent.append(text)\n",
        "    polarity = []\n",
        "    for opinions in sentence.findall('aspectCategories'):\n",
        "      for opinion in opinions.findall('aspectCategory'):\n",
        "        elem = [opinion.get('category'), opinion.get('polarity')]\n",
        "        polarity.append(elem)\n",
        "    sent_characteristics.append(polarity)\n",
        "    s.append(sent)\n",
        "    p.append(sent_characteristics)\n",
        "        \n",
        "  return s, p"
      ],
      "execution_count": null,
      "outputs": []
    },
    {
      "cell_type": "code",
      "metadata": {
        "id": "pq7hivBA_YjE",
        "colab_type": "code",
        "colab": {}
      },
      "source": [
        "train_sentences, train_adnotations = getSentences(\"./SemEval2014_train.xml\")\n",
        "test_sentences, test_adnotations = getSentences(\"./SemEval2014_test.xml\")"
      ],
      "execution_count": null,
      "outputs": []
    },
    {
      "cell_type": "code",
      "metadata": {
        "id": "XmzHO80H_bHD",
        "colab_type": "code",
        "colab": {}
      },
      "source": [
        "train_reviews = []\n",
        "train_aspects = []\n",
        "test_reviews = []\n",
        "test_aspects = []"
      ],
      "execution_count": null,
      "outputs": []
    },
    {
      "cell_type": "code",
      "metadata": {
        "id": "iVwnyhRf_dqO",
        "colab_type": "code",
        "colab": {}
      },
      "source": [
        "for review in train_sentences:\n",
        "  train_reviews.append(' '.join(review))\n",
        "for ta in train_adnotations:\n",
        "  aspect = set()\n",
        "  for adnotation_set in ta:\n",
        "    for a in adnotation_set:\n",
        "      aspect.add(a[0])\n",
        "  train_aspects.append(aspect)"
      ],
      "execution_count": null,
      "outputs": []
    },
    {
      "cell_type": "code",
      "metadata": {
        "id": "ULEd27i7_gLy",
        "colab_type": "code",
        "colab": {}
      },
      "source": [
        "for review in test_sentences:\n",
        "  test_reviews.append(' '.join(review))\n",
        "  \n",
        "for ta in test_adnotations:\n",
        "  aspect = set()\n",
        "  for adnotation_set in ta:\n",
        "    for a in adnotation_set:\n",
        "      aspect.add(a[0])\n",
        "  test_aspects.append(aspect)"
      ],
      "execution_count": null,
      "outputs": []
    },
    {
      "cell_type": "code",
      "metadata": {
        "id": "3Ogj5lBQ_iVU",
        "colab_type": "code",
        "colab": {}
      },
      "source": [
        "def getLabels(aspects):\n",
        "\t#print(unique_aspects)\n",
        "\t#Create train labels\n",
        "  food = []\n",
        "  service\t= []\n",
        "  miscellaneous = []\n",
        "  ambience = []\n",
        "  price = []\n",
        "\n",
        "  for aspect in aspects:\n",
        "    if 'food' in aspect:\n",
        "      food.append(1)\n",
        "    else:\n",
        "      food.append(0)\n",
        "\t\t\t\n",
        "    if 'anecdotes/miscellaneous' in aspect:\n",
        "      miscellaneous.append(1)\n",
        "    else:\n",
        "      miscellaneous.append(0)\n",
        "\t\t\t\n",
        "    if 'service' in aspect:\n",
        "      service.append(1)\n",
        "    else:\n",
        "      service.append(0)\n",
        "\n",
        "    if 'ambience' in aspect:\n",
        "      ambience.append(1)\n",
        "    else:\n",
        "      ambience.append(0)\n",
        "\t\t\t  \n",
        "    if 'price' in aspect:\n",
        "      price.append(1)\n",
        "    else:\n",
        "      price.append(0)\n",
        "\t\t\t\t\n",
        "  return food, miscellaneous ,service ,price , ambience"
      ],
      "execution_count": null,
      "outputs": []
    },
    {
      "cell_type": "code",
      "metadata": {
        "id": "WGNxmyXc_lyn",
        "colab_type": "code",
        "colab": {}
      },
      "source": [
        "#Test and Train labels\n",
        "test1, test2, test3, test4, test5 = getLabels(test_aspects)\n",
        "test_labels = [test1, test2, test3, test4, test5]\n",
        "\n",
        "train1, train2, train3, train4, train5 = getLabels(train_aspects)\n",
        "train_labels = [train1, train2, train3, train4, train5]"
      ],
      "execution_count": null,
      "outputs": []
    },
    {
      "cell_type": "code",
      "metadata": {
        "id": "7nyc5ns-_orF",
        "colab_type": "code",
        "colab": {
          "base_uri": "https://localhost:8080/",
          "height": 121
        },
        "outputId": "c7cc871f-9400-4d78-9528-a42e1ed188c2"
      },
      "source": [
        "#Vectorizing data\n",
        "vectorizer = CountVectorizer(analyzer='word', lowercase=True, stop_words='english', ngram_range=(1,2))\n",
        "vectorizer.fit(train_reviews)"
      ],
      "execution_count": null,
      "outputs": [
        {
          "output_type": "execute_result",
          "data": {
            "text/plain": [
              "CountVectorizer(analyzer='word', binary=False, decode_error='strict',\n",
              "                dtype=<class 'numpy.int64'>, encoding='utf-8', input='content',\n",
              "                lowercase=True, max_df=1.0, max_features=None, min_df=1,\n",
              "                ngram_range=(1, 2), preprocessor=None, stop_words='english',\n",
              "                strip_accents=None, token_pattern='(?u)\\\\b\\\\w\\\\w+\\\\b',\n",
              "                tokenizer=None, vocabulary=None)"
            ]
          },
          "metadata": {
            "tags": []
          },
          "execution_count": 12
        }
      ]
    },
    {
      "cell_type": "code",
      "metadata": {
        "id": "UTUzzDMH_rW3",
        "colab_type": "code",
        "colab": {}
      },
      "source": [
        "x_train = vectorizer.transform(train_reviews)\n",
        "x_test = vectorizer.transform(test_reviews)"
      ],
      "execution_count": null,
      "outputs": []
    },
    {
      "cell_type": "code",
      "metadata": {
        "id": "RO-Psq7a_wwm",
        "colab_type": "code",
        "colab": {}
      },
      "source": [
        "input_dim = x_train.shape[1]\n",
        "\n",
        "tokenizer = Tokenizer(num_words = 5000)\n",
        "tokenizer.fit_on_texts(train_reviews)\n",
        "\n",
        "x_train = tokenizer.texts_to_sequences(train_reviews)\n",
        "x_test = tokenizer.texts_to_sequences(test_reviews)\n",
        "vocab_size = len(tokenizer.word_index) + 1 "
      ],
      "execution_count": null,
      "outputs": []
    },
    {
      "cell_type": "code",
      "metadata": {
        "id": "2NXHwFl4_7Pr",
        "colab_type": "code",
        "colab": {}
      },
      "source": [
        "maxlen = 100\n",
        "x_train = pad_sequences(x_train, padding='post', maxlen=maxlen)\n",
        "x_test = pad_sequences(x_test, padding = 'post', maxlen=maxlen)"
      ],
      "execution_count": null,
      "outputs": []
    },
    {
      "cell_type": "code",
      "metadata": {
        "id": "-r9_g7VdAA3d",
        "colab_type": "code",
        "colab": {
          "base_uri": "https://localhost:8080/",
          "height": 72
        },
        "outputId": "980cb80b-6eb5-4feb-8fb3-b65fc48df347"
      },
      "source": [
        "embedding_dim = 300\n",
        "from gensim.models import KeyedVectors\n",
        "word2vec_model = KeyedVectors.load_word2vec_format(os.path.join('./GoogleNews-vectors-negative300.bin.gz'), binary=True)"
      ],
      "execution_count": null,
      "outputs": [
        {
          "output_type": "stream",
          "text": [
            "/usr/local/lib/python3.6/dist-packages/smart_open/smart_open_lib.py:254: UserWarning: This function is deprecated, use smart_open.open instead. See the migration notes for details: https://github.com/RaRe-Technologies/smart_open/blob/master/README.rst#migrating-to-the-new-open-function\n",
            "  'See the migration notes for details: %s' % _MIGRATION_NOTES_URL\n"
          ],
          "name": "stderr"
        }
      ]
    },
    {
      "cell_type": "code",
      "metadata": {
        "id": "puCwmk5UABxL",
        "colab_type": "code",
        "colab": {
          "base_uri": "https://localhost:8080/",
          "height": 72
        },
        "outputId": "d84fef42-22cf-4d3a-fae0-30709f364df5"
      },
      "source": [
        "word_index = tokenizer.word_index\n",
        "embedding_matrix = np.zeros((len(word_index) + 1, embedding_dim))\n",
        "for word, i in word_index.items():\n",
        "    if word in word2vec_model: \n",
        "        embedding_vector = word2vec_model[word]\n",
        "        embedding_matrix[i] = embedding_vector\n",
        "\n",
        "embedding_layer = Embedding(len(word_index) + 1,\n",
        "                            embedding_dim,\n",
        "                            weights=[embedding_matrix],\n",
        "                            input_length=maxlen,\n",
        "                            trainable=True)"
      ],
      "execution_count": null,
      "outputs": [
        {
          "output_type": "stream",
          "text": [
            "WARNING:tensorflow:From /usr/local/lib/python3.6/dist-packages/keras/backend/tensorflow_backend.py:74: The name tf.get_default_graph is deprecated. Please use tf.compat.v1.get_default_graph instead.\n",
            "\n"
          ],
          "name": "stdout"
        }
      ]
    },
    {
      "cell_type": "code",
      "metadata": {
        "id": "XgbwBdJiAFVq",
        "colab_type": "code",
        "colab": {}
      },
      "source": [
        "def f1(y_true, y_pred):\n",
        "    def recall(y_true, y_pred):\n",
        "        \"\"\"Recall metric.\n",
        "        Only computes a batch-wise average of recall.\n",
        "        Computes the recall, a metric for multi-label classification of\n",
        "        how many relevant items are selected.\n",
        "        \"\"\"\n",
        "        true_positives = K.sum(K.round(K.clip(y_true * y_pred, 0, 1)))\n",
        "        possible_positives = K.sum(K.round(K.clip(y_true, 0, 1)))\n",
        "        recall = true_positives / (possible_positives + K.epsilon())\n",
        "        return recall\n",
        "\n",
        "    def precision(y_true, y_pred):\n",
        "        \"\"\"Precision metric.\n",
        "        Only computes a batch-wise average of precision.\n",
        "        Computes the precision, a metric for multi-label classification of\n",
        "        how many selected items are relevant.\n",
        "        \"\"\"\n",
        "        true_positives = K.sum(K.round(K.clip(y_true * y_pred, 0, 1)))\n",
        "        predicted_positives = K.sum(K.round(K.clip(y_pred, 0, 1)))\n",
        "        precision = true_positives / (predicted_positives + K.epsilon())\n",
        "        return precision\n",
        "    precision = precision(y_true, y_pred)\n",
        "    recall = recall(y_true, y_pred)\n",
        "    return 2*((precision*recall)/(precision+recall+K.epsilon()))"
      ],
      "execution_count": null,
      "outputs": []
    },
    {
      "cell_type": "code",
      "metadata": {
        "id": "qXP757NNAHcj",
        "colab_type": "code",
        "colab": {}
      },
      "source": [
        "from tensorflow.python.keras.callbacks import EarlyStopping\n",
        "def getPredictions(x_train, x_test, train, test):\n",
        "\tembedding_dim = 300\n",
        "\t#early_stopping_monitor = EarlyStopping(patience=3)\n",
        "\tmodel = Sequential()\n",
        "\tmodel.add(embedding_layer)\n",
        "\tmodel.add(layers.Conv1D(64, 3, activation = 'relu'))\n",
        "\tmodel.add(layers.GlobalMaxPool1D())\n",
        "\tmodel.add(layers.Dense(10, activation='relu'))\n",
        "\tmodel.add(layers.Dense(1, activation='sigmoid'))\n",
        "\tmodel.compile(optimizer='adam', loss='binary_crossentropy', metrics=[f1, 'accuracy'])\n",
        "\t#model.summary()\n",
        "\n",
        "\thistory = model.fit(x_train, train, epochs = 15, verbose = 1, validation_data = (x_test, test), batch_size = 10)\n",
        "\tval = model.evaluate(x_train, train, verbose = False)\n",
        "\tval = model.evaluate(x_test, test, verbose = False)\n",
        "\n",
        "\tpredictions = model.predict(x_test)\n",
        "\tpredictions_class = model.predict_classes(x_test)\n",
        "\t#predictions1 = model.predict(testt)\n",
        "\t#predictions11 = model.predict_classes(testt)\n",
        "\treturn predictions, predictions_class"
      ],
      "execution_count": null,
      "outputs": []
    },
    {
      "cell_type": "code",
      "metadata": {
        "id": "XeP1f-1wAO2p",
        "colab_type": "code",
        "colab": {
          "base_uri": "https://localhost:8080/",
          "height": 1000
        },
        "outputId": "df026f4d-55ce-4d00-bab6-2432e9a13130"
      },
      "source": [
        "print(\"Getting Predictions1\")\n",
        "predictions1, predictions_class1 = getPredictions(x_train, x_test, train1, test1)\n",
        "print(\"Getting Predictions2\")\n",
        "predictions2, predictions_class2 = getPredictions(x_train, x_test, train2, test2)\n",
        "print(\"Getting Predictions3\")\n",
        "predictions3, predictions_class3 = getPredictions(x_train, x_test, train3, test3)\n",
        "print(\"Getting Predictions4\")\n",
        "predictions4, predictions_class4 = getPredictions(x_train, x_test, train4, test4)\n",
        "print(\"Getting Predictions5\")\n",
        "predictions5, predictions_class5 = getPredictions(x_train, x_test, train5, test5)"
      ],
      "execution_count": null,
      "outputs": [
        {
          "output_type": "stream",
          "text": [
            "Getting Predictions1\n",
            "WARNING:tensorflow:From /usr/local/lib/python3.6/dist-packages/keras/backend/tensorflow_backend.py:517: The name tf.placeholder is deprecated. Please use tf.compat.v1.placeholder instead.\n",
            "\n",
            "WARNING:tensorflow:From /usr/local/lib/python3.6/dist-packages/keras/backend/tensorflow_backend.py:4138: The name tf.random_uniform is deprecated. Please use tf.random.uniform instead.\n",
            "\n",
            "WARNING:tensorflow:From /usr/local/lib/python3.6/dist-packages/keras/backend/tensorflow_backend.py:174: The name tf.get_default_session is deprecated. Please use tf.compat.v1.get_default_session instead.\n",
            "\n",
            "WARNING:tensorflow:From /usr/local/lib/python3.6/dist-packages/keras/backend/tensorflow_backend.py:181: The name tf.ConfigProto is deprecated. Please use tf.compat.v1.ConfigProto instead.\n",
            "\n",
            "WARNING:tensorflow:From /usr/local/lib/python3.6/dist-packages/keras/backend/tensorflow_backend.py:186: The name tf.Session is deprecated. Please use tf.compat.v1.Session instead.\n",
            "\n",
            "WARNING:tensorflow:From /usr/local/lib/python3.6/dist-packages/keras/backend/tensorflow_backend.py:190: The name tf.global_variables is deprecated. Please use tf.compat.v1.global_variables instead.\n",
            "\n",
            "WARNING:tensorflow:From /usr/local/lib/python3.6/dist-packages/keras/backend/tensorflow_backend.py:199: The name tf.is_variable_initialized is deprecated. Please use tf.compat.v1.is_variable_initialized instead.\n",
            "\n",
            "WARNING:tensorflow:From /usr/local/lib/python3.6/dist-packages/keras/backend/tensorflow_backend.py:206: The name tf.variables_initializer is deprecated. Please use tf.compat.v1.variables_initializer instead.\n",
            "\n",
            "WARNING:tensorflow:From /usr/local/lib/python3.6/dist-packages/keras/optimizers.py:790: The name tf.train.Optimizer is deprecated. Please use tf.compat.v1.train.Optimizer instead.\n",
            "\n",
            "WARNING:tensorflow:From /usr/local/lib/python3.6/dist-packages/keras/backend/tensorflow_backend.py:3376: The name tf.log is deprecated. Please use tf.math.log instead.\n",
            "\n",
            "WARNING:tensorflow:From /usr/local/lib/python3.6/dist-packages/tensorflow_core/python/ops/nn_impl.py:183: where (from tensorflow.python.ops.array_ops) is deprecated and will be removed in a future version.\n",
            "Instructions for updating:\n",
            "Use tf.where in 2.0, which has the same broadcast rule as np.where\n",
            "WARNING:tensorflow:From /usr/local/lib/python3.6/dist-packages/keras/backend/tensorflow_backend.py:986: The name tf.assign_add is deprecated. Please use tf.compat.v1.assign_add instead.\n",
            "\n",
            "WARNING:tensorflow:From /usr/local/lib/python3.6/dist-packages/keras/backend/tensorflow_backend.py:973: The name tf.assign is deprecated. Please use tf.compat.v1.assign instead.\n",
            "\n",
            "Train on 3041 samples, validate on 800 samples\n",
            "Epoch 1/15\n",
            "3041/3041 [==============================] - 13s 4ms/step - loss: 0.3518 - f1: 0.7799 - acc: 0.8579 - val_loss: 0.2474 - val_f1: 0.8965 - val_acc: 0.9087\n",
            "Epoch 2/15\n",
            "3041/3041 [==============================] - 12s 4ms/step - loss: 0.1511 - f1: 0.9130 - acc: 0.9402 - val_loss: 0.2311 - val_f1: 0.9098 - val_acc: 0.9225\n",
            "Epoch 3/15\n",
            "3041/3041 [==============================] - 12s 4ms/step - loss: 0.0560 - f1: 0.9747 - acc: 0.9842 - val_loss: 0.2616 - val_f1: 0.9014 - val_acc: 0.9137\n",
            "Epoch 4/15\n",
            "3041/3041 [==============================] - 13s 4ms/step - loss: 0.0151 - f1: 0.9941 - acc: 0.9977 - val_loss: 0.2904 - val_f1: 0.9087 - val_acc: 0.9212\n",
            "Epoch 5/15\n",
            "3041/3041 [==============================] - 12s 4ms/step - loss: 0.0042 - f1: 0.9931 - acc: 0.9997 - val_loss: 0.3161 - val_f1: 0.9061 - val_acc: 0.9187\n",
            "Epoch 6/15\n",
            "3041/3041 [==============================] - 12s 4ms/step - loss: 0.0015 - f1: 0.9934 - acc: 1.0000 - val_loss: 0.3272 - val_f1: 0.9040 - val_acc: 0.9175\n",
            "Epoch 7/15\n",
            "3041/3041 [==============================] - 12s 4ms/step - loss: 8.7936e-04 - f1: 0.9964 - acc: 1.0000 - val_loss: 0.3428 - val_f1: 0.9048 - val_acc: 0.9187\n",
            "Epoch 8/15\n",
            "3041/3041 [==============================] - 12s 4ms/step - loss: 5.8754e-04 - f1: 0.9865 - acc: 1.0000 - val_loss: 0.3584 - val_f1: 0.9040 - val_acc: 0.9175\n",
            "Epoch 9/15\n",
            "3041/3041 [==============================] - 12s 4ms/step - loss: 4.1626e-04 - f1: 0.9964 - acc: 1.0000 - val_loss: 0.3759 - val_f1: 0.9040 - val_acc: 0.9175\n",
            "Epoch 10/15\n",
            "3041/3041 [==============================] - 12s 4ms/step - loss: 3.0846e-04 - f1: 0.9934 - acc: 1.0000 - val_loss: 0.3880 - val_f1: 0.9030 - val_acc: 0.9162\n",
            "Epoch 11/15\n",
            "3041/3041 [==============================] - 12s 4ms/step - loss: 2.3386e-04 - f1: 0.9901 - acc: 1.0000 - val_loss: 0.4012 - val_f1: 0.9030 - val_acc: 0.9162\n",
            "Epoch 12/15\n",
            "3041/3041 [==============================] - 12s 4ms/step - loss: 1.7932e-04 - f1: 0.9997 - acc: 1.0000 - val_loss: 0.4094 - val_f1: 0.9043 - val_acc: 0.9175\n",
            "Epoch 13/15\n",
            "3041/3041 [==============================] - 12s 4ms/step - loss: 1.4055e-04 - f1: 0.9964 - acc: 1.0000 - val_loss: 0.4197 - val_f1: 0.9043 - val_acc: 0.9175\n",
            "Epoch 14/15\n",
            "3041/3041 [==============================] - 12s 4ms/step - loss: 1.1051e-04 - f1: 0.9934 - acc: 1.0000 - val_loss: 0.4269 - val_f1: 0.9043 - val_acc: 0.9175\n",
            "Epoch 15/15\n",
            "3041/3041 [==============================] - 12s 4ms/step - loss: 8.8491e-05 - f1: 0.9964 - acc: 1.0000 - val_loss: 0.4343 - val_f1: 0.9053 - val_acc: 0.9187\n",
            "Getting Predictions2\n",
            "Train on 3041 samples, validate on 800 samples\n",
            "Epoch 1/15\n",
            "3041/3041 [==============================] - 12s 4ms/step - loss: 0.3858 - f1: 0.7038 - acc: 0.8211 - val_loss: 0.3221 - val_f1: 0.6639 - val_acc: 0.8687\n",
            "Epoch 2/15\n",
            "3041/3041 [==============================] - 12s 4ms/step - loss: 0.1669 - f1: 0.8934 - acc: 0.9388 - val_loss: 0.4233 - val_f1: 0.6570 - val_acc: 0.8237\n",
            "Epoch 3/15\n",
            "3041/3041 [==============================] - 13s 4ms/step - loss: 0.0542 - f1: 0.9703 - acc: 0.9865 - val_loss: 0.4569 - val_f1: 0.6376 - val_acc: 0.8587\n",
            "Epoch 4/15\n",
            "3041/3041 [==============================] - 12s 4ms/step - loss: 0.0153 - f1: 0.9871 - acc: 0.9974 - val_loss: 0.5299 - val_f1: 0.6295 - val_acc: 0.8487\n",
            "Epoch 5/15\n",
            "3041/3041 [==============================] - 12s 4ms/step - loss: 0.0036 - f1: 0.9967 - acc: 1.0000 - val_loss: 0.5851 - val_f1: 0.6261 - val_acc: 0.8512\n",
            "Epoch 6/15\n",
            "3041/3041 [==============================] - 12s 4ms/step - loss: 0.0014 - f1: 0.9931 - acc: 1.0000 - val_loss: 0.6210 - val_f1: 0.6246 - val_acc: 0.8487\n",
            "Epoch 7/15\n",
            "3041/3041 [==============================] - 12s 4ms/step - loss: 8.6514e-04 - f1: 0.9898 - acc: 1.0000 - val_loss: 0.6502 - val_f1: 0.6306 - val_acc: 0.8487\n",
            "Epoch 8/15\n",
            "3041/3041 [==============================] - 12s 4ms/step - loss: 5.8983e-04 - f1: 0.9799 - acc: 1.0000 - val_loss: 0.6764 - val_f1: 0.6331 - val_acc: 0.8500\n",
            "Epoch 9/15\n",
            "3041/3041 [==============================] - 12s 4ms/step - loss: 4.2392e-04 - f1: 0.9898 - acc: 1.0000 - val_loss: 0.7020 - val_f1: 0.6124 - val_acc: 0.8450\n",
            "Epoch 10/15\n",
            "3041/3041 [==============================] - 12s 4ms/step - loss: 3.1318e-04 - f1: 0.9967 - acc: 1.0000 - val_loss: 0.7245 - val_f1: 0.6187 - val_acc: 0.8462\n",
            "Epoch 11/15\n",
            "3041/3041 [==============================] - 13s 4ms/step - loss: 2.3770e-04 - f1: 0.9898 - acc: 1.0000 - val_loss: 0.7452 - val_f1: 0.6187 - val_acc: 0.8462\n",
            "Epoch 12/15\n",
            "3041/3041 [==============================] - 12s 4ms/step - loss: 1.8415e-04 - f1: 0.9934 - acc: 1.0000 - val_loss: 0.7645 - val_f1: 0.6296 - val_acc: 0.8475\n",
            "Epoch 13/15\n",
            "3041/3041 [==============================] - 12s 4ms/step - loss: 1.4335e-04 - f1: 0.9865 - acc: 1.0000 - val_loss: 0.7833 - val_f1: 0.6241 - val_acc: 0.8437\n",
            "Epoch 14/15\n",
            "3041/3041 [==============================] - 12s 4ms/step - loss: 1.1293e-04 - f1: 0.9997 - acc: 1.0000 - val_loss: 0.8030 - val_f1: 0.6187 - val_acc: 0.8462\n",
            "Epoch 15/15\n",
            "3041/3041 [==============================] - 12s 4ms/step - loss: 9.0631e-05 - f1: 0.9931 - acc: 1.0000 - val_loss: 0.8191 - val_f1: 0.6181 - val_acc: 0.8450\n",
            "Getting Predictions3\n",
            "Train on 3041 samples, validate on 800 samples\n",
            "Epoch 1/15\n",
            "3041/3041 [==============================] - 13s 4ms/step - loss: 0.3090 - f1: 0.3426 - acc: 0.8665 - val_loss: 0.1238 - val_f1: 0.7478 - val_acc: 0.9575\n",
            "Epoch 2/15\n",
            "3041/3041 [==============================] - 12s 4ms/step - loss: 0.0908 - f1: 0.8201 - acc: 0.9691 - val_loss: 0.1191 - val_f1: 0.7840 - val_acc: 0.9600\n",
            "Epoch 3/15\n",
            "3041/3041 [==============================] - 12s 4ms/step - loss: 0.0287 - f1: 0.8605 - acc: 0.9941 - val_loss: 0.1330 - val_f1: 0.7966 - val_acc: 0.9587\n",
            "Epoch 4/15\n",
            "3041/3041 [==============================] - 12s 4ms/step - loss: 0.0085 - f1: 0.8813 - acc: 0.9987 - val_loss: 0.1851 - val_f1: 0.7506 - val_acc: 0.9562\n",
            "Epoch 5/15\n",
            "3041/3041 [==============================] - 12s 4ms/step - loss: 0.0044 - f1: 0.8971 - acc: 0.9997 - val_loss: 0.1736 - val_f1: 0.7719 - val_acc: 0.9562\n",
            "Epoch 6/15\n",
            "3041/3041 [==============================] - 12s 4ms/step - loss: 0.0024 - f1: 0.9068 - acc: 0.9997 - val_loss: 0.1896 - val_f1: 0.7643 - val_acc: 0.9562\n",
            "Epoch 7/15\n",
            "3041/3041 [==============================] - 12s 4ms/step - loss: 0.0015 - f1: 0.8710 - acc: 0.9997 - val_loss: 0.1941 - val_f1: 0.7660 - val_acc: 0.9575\n",
            "Epoch 8/15\n",
            "3041/3041 [==============================] - 12s 4ms/step - loss: 7.9717e-04 - f1: 0.8780 - acc: 1.0000 - val_loss: 0.1959 - val_f1: 0.7655 - val_acc: 0.9575\n",
            "Epoch 9/15\n",
            "3041/3041 [==============================] - 12s 4ms/step - loss: 3.1228e-04 - f1: 0.9175 - acc: 1.0000 - val_loss: 0.2015 - val_f1: 0.7794 - val_acc: 0.9600\n",
            "Epoch 10/15\n",
            "3041/3041 [==============================] - 12s 4ms/step - loss: 1.6943e-04 - f1: 0.8813 - acc: 1.0000 - val_loss: 0.2146 - val_f1: 0.7780 - val_acc: 0.9587\n",
            "Epoch 11/15\n",
            "3041/3041 [==============================] - 12s 4ms/step - loss: 7.7803e-05 - f1: 0.8977 - acc: 1.0000 - val_loss: 0.2244 - val_f1: 0.7791 - val_acc: 0.9600\n",
            "Epoch 12/15\n",
            "3041/3041 [==============================] - 12s 4ms/step - loss: 3.9884e-05 - f1: 0.8780 - acc: 1.0000 - val_loss: 0.2350 - val_f1: 0.7791 - val_acc: 0.9600\n",
            "Epoch 13/15\n",
            "3041/3041 [==============================] - 12s 4ms/step - loss: 2.4220e-05 - f1: 0.8747 - acc: 1.0000 - val_loss: 0.2434 - val_f1: 0.7791 - val_acc: 0.9600\n",
            "Epoch 14/15\n",
            "3041/3041 [==============================] - 12s 4ms/step - loss: 1.5997e-05 - f1: 0.8879 - acc: 1.0000 - val_loss: 0.2509 - val_f1: 0.7791 - val_acc: 0.9600\n",
            "Epoch 15/15\n",
            "3041/3041 [==============================] - 12s 4ms/step - loss: 1.1258e-05 - f1: 0.8813 - acc: 1.0000 - val_loss: 0.2609 - val_f1: 0.7761 - val_acc: 0.9575\n",
            "Getting Predictions4\n",
            "Train on 3041 samples, validate on 800 samples\n",
            "Epoch 1/15\n",
            "3041/3041 [==============================] - 13s 4ms/step - loss: 0.2020 - f1: 0.2764 - acc: 0.9283 - val_loss: 0.0739 - val_f1: 0.5102 - val_acc: 0.9800\n",
            "Epoch 2/15\n",
            "3041/3041 [==============================] - 12s 4ms/step - loss: 0.0534 - f1: 0.6188 - acc: 0.9822 - val_loss: 0.0645 - val_f1: 0.4882 - val_acc: 0.9762\n",
            "Epoch 3/15\n",
            "3041/3041 [==============================] - 12s 4ms/step - loss: 0.0175 - f1: 0.6510 - acc: 0.9944 - val_loss: 0.0771 - val_f1: 0.4737 - val_acc: 0.9787\n",
            "Epoch 4/15\n",
            "3041/3041 [==============================] - 12s 4ms/step - loss: 0.0052 - f1: 0.6697 - acc: 0.9993 - val_loss: 0.0929 - val_f1: 0.4715 - val_acc: 0.9775\n",
            "Epoch 5/15\n",
            "3041/3041 [==============================] - 12s 4ms/step - loss: 0.0017 - f1: 0.6675 - acc: 0.9997 - val_loss: 0.0828 - val_f1: 0.4715 - val_acc: 0.9775\n",
            "Epoch 6/15\n",
            "3041/3041 [==============================] - 12s 4ms/step - loss: 6.0939e-04 - f1: 0.6873 - acc: 1.0000 - val_loss: 0.1059 - val_f1: 0.4674 - val_acc: 0.9762\n",
            "Epoch 7/15\n",
            "3041/3041 [==============================] - 12s 4ms/step - loss: 3.4695e-04 - f1: 0.6939 - acc: 1.0000 - val_loss: 0.1062 - val_f1: 0.4674 - val_acc: 0.9762\n",
            "Epoch 8/15\n",
            "3041/3041 [==============================] - 12s 4ms/step - loss: 2.2252e-04 - f1: 0.6379 - acc: 1.0000 - val_loss: 0.1038 - val_f1: 0.4715 - val_acc: 0.9775\n",
            "Epoch 9/15\n",
            "3041/3041 [==============================] - 12s 4ms/step - loss: 1.5863e-04 - f1: 0.6646 - acc: 1.0000 - val_loss: 0.1071 - val_f1: 0.4715 - val_acc: 0.9775\n",
            "Epoch 10/15\n",
            "3041/3041 [==============================] - 12s 4ms/step - loss: 1.1925e-04 - f1: 0.6544 - acc: 1.0000 - val_loss: 0.1076 - val_f1: 0.4715 - val_acc: 0.9775\n",
            "Epoch 11/15\n",
            "3041/3041 [==============================] - 12s 4ms/step - loss: 9.1409e-05 - f1: 0.6741 - acc: 1.0000 - val_loss: 0.1097 - val_f1: 0.4715 - val_acc: 0.9775\n",
            "Epoch 12/15\n",
            "3041/3041 [==============================] - 12s 4ms/step - loss: 7.1839e-05 - f1: 0.6675 - acc: 1.0000 - val_loss: 0.1138 - val_f1: 0.4715 - val_acc: 0.9775\n",
            "Epoch 13/15\n",
            "3041/3041 [==============================] - 12s 4ms/step - loss: 5.6785e-05 - f1: 0.6314 - acc: 1.0000 - val_loss: 0.1154 - val_f1: 0.4715 - val_acc: 0.9775\n",
            "Epoch 14/15\n",
            "3041/3041 [==============================] - 12s 4ms/step - loss: 4.4942e-05 - f1: 0.6807 - acc: 1.0000 - val_loss: 0.1179 - val_f1: 0.4715 - val_acc: 0.9775\n",
            "Epoch 15/15\n",
            "3041/3041 [==============================] - 12s 4ms/step - loss: 3.6367e-05 - f1: 0.6774 - acc: 1.0000 - val_loss: 0.1190 - val_f1: 0.4715 - val_acc: 0.9775\n",
            "Getting Predictions5\n",
            "Train on 3041 samples, validate on 800 samples\n",
            "Epoch 1/15\n",
            "3041/3041 [==============================] - 14s 5ms/step - loss: 0.2444 - f1: 0.3315 - acc: 0.9106 - val_loss: 0.1806 - val_f1: 0.5488 - val_acc: 0.9375\n",
            "Epoch 2/15\n",
            "3041/3041 [==============================] - 13s 4ms/step - loss: 0.0833 - f1: 0.6726 - acc: 0.9704 - val_loss: 0.1861 - val_f1: 0.5733 - val_acc: 0.9375\n",
            "Epoch 3/15\n",
            "3041/3041 [==============================] - 13s 4ms/step - loss: 0.0270 - f1: 0.7382 - acc: 0.9941 - val_loss: 0.1929 - val_f1: 0.5406 - val_acc: 0.9412\n",
            "Epoch 4/15\n",
            "3041/3041 [==============================] - 13s 4ms/step - loss: 0.0115 - f1: 0.8004 - acc: 0.9977 - val_loss: 0.2288 - val_f1: 0.5143 - val_acc: 0.9412\n",
            "Epoch 5/15\n",
            "3041/3041 [==============================] - 13s 4ms/step - loss: 0.0028 - f1: 0.7618 - acc: 0.9997 - val_loss: 0.2435 - val_f1: 0.5097 - val_acc: 0.9375\n",
            "Epoch 6/15\n",
            "3041/3041 [==============================] - 13s 4ms/step - loss: 8.1335e-04 - f1: 0.7728 - acc: 1.0000 - val_loss: 0.2638 - val_f1: 0.5088 - val_acc: 0.9375\n",
            "Epoch 7/15\n",
            "3041/3041 [==============================] - 13s 4ms/step - loss: 4.7926e-04 - f1: 0.7764 - acc: 1.0000 - val_loss: 0.2764 - val_f1: 0.5088 - val_acc: 0.9375\n",
            "Epoch 8/15\n",
            "3041/3041 [==============================] - 13s 4ms/step - loss: 3.2398e-04 - f1: 0.7830 - acc: 1.0000 - val_loss: 0.2803 - val_f1: 0.5088 - val_acc: 0.9375\n",
            "Epoch 9/15\n",
            "3041/3041 [==============================] - 13s 4ms/step - loss: 2.3227e-04 - f1: 0.7695 - acc: 1.0000 - val_loss: 0.2969 - val_f1: 0.5088 - val_acc: 0.9375\n",
            "Epoch 10/15\n",
            "3041/3041 [==============================] - 13s 4ms/step - loss: 1.7435e-04 - f1: 0.7859 - acc: 1.0000 - val_loss: 0.3021 - val_f1: 0.5088 - val_acc: 0.9375\n",
            "Epoch 11/15\n",
            "3041/3041 [==============================] - 13s 4ms/step - loss: 1.3269e-04 - f1: 0.7662 - acc: 1.0000 - val_loss: 0.3073 - val_f1: 0.5088 - val_acc: 0.9375\n",
            "Epoch 12/15\n",
            "3041/3041 [==============================] - 13s 4ms/step - loss: 1.0335e-04 - f1: 0.7761 - acc: 1.0000 - val_loss: 0.3177 - val_f1: 0.5088 - val_acc: 0.9375\n",
            "Epoch 13/15\n",
            "3041/3041 [==============================] - 13s 4ms/step - loss: 8.1287e-05 - f1: 0.7530 - acc: 1.0000 - val_loss: 0.3202 - val_f1: 0.5088 - val_acc: 0.9375\n",
            "Epoch 14/15\n",
            "3041/3041 [==============================] - 13s 4ms/step - loss: 6.4930e-05 - f1: 0.7991 - acc: 1.0000 - val_loss: 0.3300 - val_f1: 0.5088 - val_acc: 0.9375\n",
            "Epoch 15/15\n",
            "3041/3041 [==============================] - 12s 4ms/step - loss: 5.1924e-05 - f1: 0.7662 - acc: 1.0000 - val_loss: 0.3374 - val_f1: 0.5088 - val_acc: 0.9375\n"
          ],
          "name": "stdout"
        }
      ]
    },
    {
      "cell_type": "code",
      "metadata": {
        "id": "irKoG55BAT_l",
        "colab_type": "code",
        "colab": {}
      },
      "source": [
        "predictions1 = predictions1[:, 0]\n",
        "predictions_class1 = predictions_class1[:, 0]\n",
        "\n",
        "predictions2 = predictions2[:, 0]\n",
        "predictions_class2 = predictions_class2[:, 0]\n",
        "\n",
        "predictions3 = predictions3[:, 0]\n",
        "predictions_class3 = predictions_class3[:, 0]\n",
        "\n",
        "predictions4 = predictions4[:, 0]\n",
        "predictions_class4 = predictions_class4[:, 0]\n",
        "\n",
        "predictions5 = predictions5[:, 0]\n",
        "predictions_class5 = predictions_class5[:, 0]"
      ],
      "execution_count": null,
      "outputs": []
    },
    {
      "cell_type": "code",
      "metadata": {
        "id": "EiopotdaAXMa",
        "colab_type": "code",
        "colab": {}
      },
      "source": [
        "from sklearn.metrics import accuracy_score\n",
        "from sklearn.metrics import precision_score\n",
        "from sklearn.metrics import recall_score\n",
        "from sklearn.metrics import f1_score\n",
        "from sklearn.metrics import cohen_kappa_score\n",
        "from sklearn.metrics import roc_auc_score\n",
        "from sklearn.metrics import confusion_matrix"
      ],
      "execution_count": null,
      "outputs": []
    },
    {
      "cell_type": "code",
      "metadata": {
        "id": "_HgeDiIPAY2t",
        "colab_type": "code",
        "colab": {
          "base_uri": "https://localhost:8080/",
          "height": 35
        },
        "outputId": "ba71d735-d01a-4ca1-8995-4e44978e3f9b"
      },
      "source": [
        "# accuracy: (tp + tn) / (p + n)\n",
        "accuracy1 = accuracy_score(test1, predictions_class1)\n",
        "accuracy2 = accuracy_score(test2, predictions_class2)\n",
        "accuracy3 = accuracy_score(test3, predictions_class3)\n",
        "accuracy4 = accuracy_score(test4, predictions_class4)\n",
        "accuracy5 = accuracy_score(test5, predictions_class5)\n",
        "final_accuracy = (accuracy1 + accuracy2 + accuracy3 + accuracy4 + accuracy5) / 5\n",
        "final_accuracy"
      ],
      "execution_count": null,
      "outputs": [
        {
          "output_type": "execute_result",
          "data": {
            "text/plain": [
              "0.9272500000000001"
            ]
          },
          "metadata": {
            "tags": []
          },
          "execution_count": 23
        }
      ]
    },
    {
      "cell_type": "code",
      "metadata": {
        "id": "ljdvs-ziAal4",
        "colab_type": "code",
        "colab": {
          "base_uri": "https://localhost:8080/",
          "height": 35
        },
        "outputId": "0d714846-a14b-42a1-a96e-8f5caace629a"
      },
      "source": [
        "# precision tp / (tp + fp)\n",
        "precision1 = precision_score(test1, predictions_class1)\n",
        "precision2 = precision_score(test2, predictions_class2)\n",
        "precision3 = precision_score(test3, predictions_class3)\n",
        "precision4 = precision_score(test4, predictions_class4)\n",
        "precision5 = precision_score(test5, predictions_class5)\n",
        "final_precision_score = (precision1 + precision2 + precision3 + precision4 + precision5) / 5\n",
        "final_precision_score"
      ],
      "execution_count": null,
      "outputs": [
        {
          "output_type": "execute_result",
          "data": {
            "text/plain": [
              "0.900969498346502"
            ]
          },
          "metadata": {
            "tags": []
          },
          "execution_count": 24
        }
      ]
    },
    {
      "cell_type": "code",
      "metadata": {
        "id": "bLqO_gtEAcUX",
        "colab_type": "code",
        "colab": {
          "base_uri": "https://localhost:8080/",
          "height": 35
        },
        "outputId": "e2055320-bcfb-46e6-9eff-1efd896f1bc4"
      },
      "source": [
        "# recall: tp / (tp + fn)\n",
        "recall1 = recall_score(test1, predictions_class1)\n",
        "recall2 = recall_score(test2, predictions_class2)\n",
        "recall3 = recall_score(test3, predictions_class3)\n",
        "recall4 = recall_score(test4, predictions_class4)\n",
        "recall5 = recall_score(test5, predictions_class5)\n",
        "final_recall_score = (recall1 + recall2 + recall3 + recall4 + recall5) / 5\n",
        "final_recall_score "
      ],
      "execution_count": null,
      "outputs": [
        {
          "output_type": "execute_result",
          "data": {
            "text/plain": [
              "0.782292708916433"
            ]
          },
          "metadata": {
            "tags": []
          },
          "execution_count": 25
        }
      ]
    },
    {
      "cell_type": "code",
      "metadata": {
        "id": "4uT4K__aAd1-",
        "colab_type": "code",
        "colab": {
          "base_uri": "https://localhost:8080/",
          "height": 35
        },
        "outputId": "74dbfa30-f7b1-4c5f-c475-788dfb394963"
      },
      "source": [
        "# f1: 2 tp / (2 tp + fp + fn)\n",
        "f1_score1 = f1_score(test1, predictions_class1)\n",
        "f1_score2 = f1_score(test2, predictions_class2)\n",
        "f1_score3 = f1_score(test3, predictions_class3)\n",
        "f1_score4 = f1_score(test4, predictions_class4)\n",
        "f1_score5 = f1_score(test5, predictions_class5)\n",
        "final_f1_score = (f1_score1 + f1_score2 + f1_score3 + f1_score4 + f1_score5) / 5\n",
        "final_f1_score  "
      ],
      "execution_count": null,
      "outputs": [
        {
          "output_type": "execute_result",
          "data": {
            "text/plain": [
              "0.8358083951767339"
            ]
          },
          "metadata": {
            "tags": []
          },
          "execution_count": 26
        }
      ]
    },
    {
      "cell_type": "code",
      "metadata": {
        "id": "94kTdlSlAfgN",
        "colab_type": "code",
        "colab": {
          "base_uri": "https://localhost:8080/",
          "height": 35
        },
        "outputId": "1a301603-15b8-40cc-fd2d-185465d53f0b"
      },
      "source": [
        "# ROC AUC\n",
        "auc1 = roc_auc_score(test1, predictions_class1)\n",
        "auc2 = roc_auc_score(test2, predictions_class2)\n",
        "auc3 = roc_auc_score(test3, predictions_class3)\n",
        "auc4 = roc_auc_score(test4, predictions_class4)\n",
        "auc5 = roc_auc_score(test5, predictions_class5)\n",
        "final_auc = (auc1 + auc2 + auc3 + auc4 + auc5) / 5\n",
        "final_auc"
      ],
      "execution_count": null,
      "outputs": [
        {
          "output_type": "execute_result",
          "data": {
            "text/plain": [
              "0.8736199529402837"
            ]
          },
          "metadata": {
            "tags": []
          },
          "execution_count": 27
        }
      ]
    }
  ]
}